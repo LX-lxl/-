{
 "cells": [
  {
   "cell_type": "code",
   "execution_count": 2,
   "metadata": {},
   "outputs": [],
   "source": [
    "# 导入常用第三方库\n",
    "import pandas as pd\n",
    "import matplotlib.pyplot as plt\n",
    "import numpy as np\n",
    "# 读取数据\n",
    "data=pd.read_csv(\"winequality-white.csv\")\n",
    "print(data)"
   ]
  },
  {
   "cell_type": "code",
   "execution_count": 3,
   "metadata": {},
   "outputs": [],
   "source": [
    "# 特征数据的描述性统计分析\n",
    "describe_data=data.iloc[:,:-1].describe()\n",
    "print(describe_data)"
   ]
  },
  {
   "cell_type": "code",
   "execution_count": 4,
   "metadata": {},
   "outputs": [],
   "source": [
    "# 删除重复记录\n",
    "print(\"原始数据形状：\",data.shape)\n",
    "data=data.drop_duplicates()\n",
    "print(\"处理后数据的形状：\",data.shape)"
   ]
  },
  {
   "cell_type": "code",
   "execution_count": 5,
   "metadata": {},
   "outputs": [],
   "source": [
    "# 该部分代码用于检测异常值\n",
    "\n",
    "# 定义一个集合，用于保存异常值记录的标签\n",
    "index=set()\n",
    "# 遍历原始数据的特征\n",
    "for i in data.columns[:-1]:\n",
    "#     计算下四分位数\n",
    "    q_l=describe_data.loc['25%',i]\n",
    "#     计算上四分位数\n",
    "    q_u=describe_data.loc['75%',i]\n",
    "#     计算四分位差\n",
    "    iqr=q_u-q_l\n",
    "#     利用列表推导式保存所有大于上界，小于下界的异常值\n",
    "    fliers=[j for j in data[i] if j>q_u+1.5*iqr or j<q_l-1.5*iqr]\n",
    "#     保存异常值记录的标签\n",
    "    index.update({m for m,n in zip(data[i].index,data[i]) if n>q_u+1.5*iqr or n<q_l-1.5*iqr})\n",
    "print(\"异常值记录：\",len(index),\"条\")"
   ]
  },
  {
   "cell_type": "code",
   "execution_count": null,
   "metadata": {},
   "outputs": [],
   "source": [
    "# 绘制特征的箱线图，检测特征中是否存在异常值\n",
    "for i in data.columns[:-1]:\n",
    "#     捕捉异常，只绘制定量数据的箱线图\n",
    "    try:\n",
    "        plt.boxplot(data[i],labels=[i])\n",
    "        plt.show()\n",
    "    except:\n",
    "        pass"
   ]
  },
  {
   "cell_type": "code",
   "execution_count": 6,
   "metadata": {},
   "outputs": [],
   "source": [
    "# 删除包含异常值的记录（行数据）\n",
    "data=data.drop(index=index)"
   ]
  },
  {
   "cell_type": "code",
   "execution_count": 7,
   "metadata": {},
   "outputs": [],
   "source": [
    "# 该部分代码对异常值进行替换\n",
    "\n",
    "for i in data.columns[:-1]:\n",
    "#     计算下四分位数\n",
    "    q_l=describe_data.loc['25%',i]\n",
    "#     计算上四分位数\n",
    "    q_u=describe_data.loc['75%',i]\n",
    "#     计算四分位差\n",
    "    iqr=q_u-q_l\n",
    "#     寻找特征中的异常值\n",
    "    for m,n in zip(data[i].index,data[i]):\n",
    "        if n>q_u+1.5*iqr or n<q_l-1.5*iqr:\n",
    "#             利用中位数替换异常值\n",
    "            data.loc[m,i]=np.median(data[i])     "
   ]
  },
  {
   "cell_type": "code",
   "execution_count": 8,
   "metadata": {},
   "outputs": [],
   "source": [
    "for i in data.columns[:-1]:\n",
    "    try:\n",
    "        plt.boxplot(data[i],labels=[i])\n",
    "        plt.show()\n",
    "    except:\n",
    "        pass"
   ]
  },
  {
   "cell_type": "code",
   "execution_count": 10,
   "metadata": {
    "collapsed": true
   },
   "outputs": [
    {
     "data": {
      "text/plain": [
       "Text(137.64444444444445, 0.5, '频数')"
      ]
     },
     "execution_count": 10,
     "metadata": {},
     "output_type": "execute_result"
    }
   ],
   "source": [
    "# 绘制定性数据的柱状图，并设置不同颜色\n",
    "plt.rcParams['font.family']='Simhei'\n",
    "plt.rcParams['axes.unicode_minus']=False\n",
    "plt.bar(data['quality'].value_counts().index,data['quality'].value_counts(),\n",
    "       color=random.choices(list(colors.cnames.keys()),k=data['quality'].shape[0]))\n",
    "# 为每一个类别添加注释（个数）\n",
    "for i,j in zip(data['quality'].value_counts().index,data['quality'].value_counts()):\n",
    "#     plt.text(x,y,text) x,y表示添加注释的数据点，text表示添加的注释\n",
    "    plt.text(i-0.2,j,j)\n",
    "# 添加标题\n",
    "plt.title(\"葡萄酒质量分布\")\n",
    "# 添加X轴标签\n",
    "plt.xlabel(\"葡萄酒质量\")\n",
    "# 添加Y轴标签\n",
    "plt.ylabel(\"频数\")\n",
    "plt.show()"
   ]
  },
  {
   "cell_type": "code",
   "execution_count": null,
   "metadata": {},
   "outputs": [],
   "source": [
    "# 绘制定量数据的直方图\n",
    "plt.hist(data['fixed acidity'],5,edgecolor='w')\n",
    "# 为每一个区间添加注释（个数）\n",
    "for i,j in zip(df[1],df[0]):\n",
    "    plt.text((i+i+1)/2,j,int(j))\n",
    "# 添加标题\n",
    "plt.title(\"固定酸度分布\")\n",
    "# 添加X轴标签\n",
    "plt.xlabel(\"固定酸度\")\n",
    "# 添加Y轴标签\n",
    "plt.ylabel(\"频数\")\n",
    "plt.show()"
   ]
  },
  {
   "cell_type": "code",
   "execution_count": 12,
   "metadata": {
    "collapsed": true
   },
   "outputs": [
    {
     "name": "stdout",
     "output_type": "stream",
     "text": [
      "         fixed acidity\n",
      "quality               \n",
      "3             6.922222\n",
      "4             7.026744\n",
      "5             6.848650\n",
      "6             6.792347\n",
      "7             6.719014\n",
      "8             6.711404\n",
      "9             7.000000\n"
     ]
    },
    {
     "data": {
      "text/plain": [
       "Text(0, 0.5, '固定酸度')"
      ]
     },
     "execution_count": 12,
     "metadata": {},
     "output_type": "execute_result"
    }
   ],
   "source": [
    "from matplotlib import colors\n",
    "import random\n",
    "# 创建画布，设置画布大小\n",
    "plt.figure(figsize=(10,20))\n",
    "# 遍历目标变量所有类别取值\n",
    "for i in data[\"quality\"].value_counts().sort_index().index:\n",
    "#     创建子图\n",
    "    plt.subplot(4,2,i-2)\n",
    "#     绘制不同类别下某个定量数据的直方图\n",
    "    re=plt.hist(data['fixed acidity'][data['quality']==i],bins=5,edgecolor='w')\n",
    "#     设置X轴刻度，使得刻度对齐\n",
    "    plt.xticks(re[1])\n",
    "#     添加X轴标签\n",
    "    plt.xlabel(\"固定酸度\")\n",
    "#     添加Y轴标签\n",
    "    plt.ylabel(\"质量：%d\"%i)\n",
    "plt.show()"
   ]
  },
  {
   "cell_type": "code",
   "execution_count": 13,
   "metadata": {
    "collapsed": true
   },
   "outputs": [
    {
     "name": "stdout",
     "output_type": "stream",
     "text": [
      "           alcohol\n",
      "quality           \n",
      "3        11.033333\n",
      "4        10.371512\n",
      "5         9.926993\n",
      "6        10.684062\n",
      "7        11.513563\n",
      "8        11.828070\n",
      "9        12.625000\n"
     ]
    },
    {
     "data": {
      "text/plain": [
       "Text(0, 0.5, '酒精')"
      ]
     },
     "execution_count": 13,
     "metadata": {},
     "output_type": "execute_result"
    }
   ],
   "source": [
    "plt.figure(figsize=(10,20))\n",
    "for i in data[\"quality\"].value_counts().sort_index().index:\n",
    "    plt.subplot(4,2,i-2)\n",
    "    re=plt.hist(data['alcohol'][data['quality']==i],bins=5,edgecolor='w')\n",
    "    plt.xticks(re[1])\n",
    "    plt.xlabel(\"酒精含量\")\n",
    "    plt.ylabel(\"质量：%d\"%i)\n",
    "plt.show()"
   ]
  },
  {
   "cell_type": "code",
   "execution_count": 14,
   "metadata": {
    "collapsed": true
   },
   "outputs": [
    {
     "data": {
      "text/plain": [
       "<AxesSubplot:>"
      ]
     },
     "execution_count": 14,
     "metadata": {},
     "output_type": "execute_result"
    }
   ],
   "source": [
    "import seaborn as sns\n",
    "plt.figure(figsize=(8,6))\n",
    "# 绘制Spearman相关系数热力图，通过annot参数显示相关系数取值\n",
    "sns.heatmap(data.corr(method=\"spearman\"),annot=True)\n",
    "plt.show()"
   ]
  },
  {
   "cell_type": "code",
   "execution_count": 15,
   "metadata": {
    "collapsed": true
   },
   "outputs": [
    {
     "data": {
      "text/plain": [
       "<AxesSubplot:>"
      ]
     },
     "execution_count": 15,
     "metadata": {},
     "output_type": "execute_result"
    }
   ],
   "source": [
    "plt.figure(figsize=(8,6))\n",
    "# 绘制Pearson相关系数热力图\n",
    "sns.heatmap(data.corr(),annot=True)\n",
    "plt.show()"
   ]
  },
  {
   "cell_type": "code",
   "execution_count": 3,
   "metadata": {
    "collapsed": true
   },
   "outputs": [
    {
     "name": "stdout",
     "output_type": "stream",
     "text": [
      "      fixed acidity  volatile acidity  citric acid  residual sugar  chlorides  \\\n",
      "0          0.172097         -0.081770     0.213280        2.821349  -0.035355   \n",
      "1         -0.657501          0.215896     0.048001       -0.944765   0.147747   \n",
      "2          1.475751          0.017452     0.543838        0.100282   0.193523   \n",
      "3          0.409125         -0.478657    -0.117278        0.415768   0.559727   \n",
      "4          0.409125         -0.478657    -0.117278        0.415768   0.559727   \n",
      "...             ...               ...          ...             ...        ...   \n",
      "4893      -0.776015         -0.677101    -0.365197       -0.944765  -0.310008   \n",
      "4894      -0.301959          0.414339     0.213280        0.317179   0.056196   \n",
      "4895      -0.420473         -0.379435    -1.191592       -1.023637  -0.218457   \n",
      "4896      -1.605613          0.116674    -0.282557       -1.043355  -1.088192   \n",
      "4897      -1.013043         -0.677101     0.378559       -1.102508  -1.179743   \n",
      "\n",
      "      free sulfur dioxide  total sulfur dioxide   density        pH  \\\n",
      "0                0.569932              0.744565  2.331512 -1.246921   \n",
      "1               -1.253019             -0.149685 -0.009154  0.740029   \n",
      "2               -0.312141             -0.973336  0.358665  0.475102   \n",
      "3                0.687541              1.121091  0.525855  0.011480   \n",
      "4                0.687541              1.121091  0.525855  0.011480   \n",
      "...                   ...                   ...       ...       ...   \n",
      "4893            -0.664970             -1.091000 -0.965483  0.541334   \n",
      "4894             1.275590              0.697499  0.291789 -0.253446   \n",
      "4895            -0.312141             -0.643875 -0.497350 -1.313153   \n",
      "4896            -0.900190             -0.667408 -1.784717  1.004955   \n",
      "4897            -0.782580             -0.949803 -1.543962  0.475102   \n",
      "\n",
      "      sulphates   alcohol  quality  \n",
      "0     -0.349184 -1.393152        6  \n",
      "1      0.001342 -0.824276        6  \n",
      "2     -0.436816 -0.336667        6  \n",
      "3     -0.787342 -0.499203        6  \n",
      "4     -0.787342 -0.499203        6  \n",
      "...         ...       ...      ...  \n",
      "4893   0.088973  0.557282        6  \n",
      "4894  -0.261553 -0.743008        5  \n",
      "4895  -0.261553 -0.905544        6  \n",
      "4896  -0.962605  1.857572        7  \n",
      "4897  -1.488394  1.044891        6  \n",
      "\n",
      "[4898 rows x 12 columns]\n"
     ]
    }
   ],
   "source": [
    "from sklearn import preprocessing\n",
    "# 标准化处理\n",
    "data.iloc[:,:-1]=preprocessing.scale(data.iloc[:,:-1])\n",
    "print(data)"
   ]
  }
 ],
 "metadata": {
  "kernelspec": {
   "display_name": "Python 3",
   "language": "python",
   "name": "python3"
  },
  "language_info": {
   "codemirror_mode": {
    "name": "ipython",
    "version": 3
   },
   "file_extension": ".py",
   "mimetype": "text/x-python",
   "name": "python",
   "nbconvert_exporter": "python",
   "pygments_lexer": "ipython3",
   "version": "3.8.5"
  }
 },
 "nbformat": 4,
 "nbformat_minor": 4
}
